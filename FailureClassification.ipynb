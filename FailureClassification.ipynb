{
 "cells": [
  {
   "cell_type": "markdown",
   "id": "2cf74c3f",
   "metadata": {},
   "source": [
    "### required imports"
   ]
  },
  {
   "cell_type": "code",
   "execution_count": 56,
   "id": "0b6aa442",
   "metadata": {},
   "outputs": [],
   "source": [
    "import pandas as pd\n",
    "import numpy as np\n",
    "from sklearn.model_selection import train_test_split\n",
    "from sklearn.linear_model import LogisticRegression\n",
    "from sklearn.preprocessing import StandardScaler\n",
    "from sklearn.metrics import log_loss\n",
    "import matplotlib.pyplot as plt\n",
    "from datetime import datetime\n",
    "from sklearn.metrics import r2_score\n",
    "from sklearn.metrics import mean_squared_error\n",
    "from sklearn.ensemble import RandomForestClassifier\n",
    "from sklearn.preprocessing import LabelEncoder\n",
    "from sklearn.preprocessing import OrdinalEncoder\n",
    "from sklearn.metrics import classification_report, accuracy_score\n",
    "\n"
   ]
  },
  {
   "cell_type": "markdown",
   "id": "e5d5956c",
   "metadata": {},
   "source": [
    "### importing the clean pre processed data (preparing it a little bit)"
   ]
  },
  {
   "cell_type": "code",
   "execution_count": 57,
   "id": "14c0a073",
   "metadata": {},
   "outputs": [
    {
     "data": {
      "text/html": [
       "<div>\n",
       "<style scoped>\n",
       "    .dataframe tbody tr th:only-of-type {\n",
       "        vertical-align: middle;\n",
       "    }\n",
       "\n",
       "    .dataframe tbody tr th {\n",
       "        vertical-align: top;\n",
       "    }\n",
       "\n",
       "    .dataframe thead th {\n",
       "        text-align: right;\n",
       "    }\n",
       "</style>\n",
       "<table border=\"1\" class=\"dataframe\">\n",
       "  <thead>\n",
       "    <tr style=\"text-align: right;\">\n",
       "      <th></th>\n",
       "      <th>Equipment</th>\n",
       "      <th>Nom Equipement</th>\n",
       "      <th>Noeud Parent</th>\n",
       "      <th>Nom_parent</th>\n",
       "      <th>Classification_Equipement</th>\n",
       "      <th>Date début</th>\n",
       "      <th>Date Fin</th>\n",
       "      <th>Type OT</th>\n",
       "      <th>day_diff</th>\n",
       "      <th>date_enreg</th>\n",
       "    </tr>\n",
       "  </thead>\n",
       "  <tbody>\n",
       "    <tr>\n",
       "      <th>2888</th>\n",
       "      <td>PFC107</td>\n",
       "      <td>Serac B (DmxR12T12/540 série M12-OM24)</td>\n",
       "      <td>PFC1</td>\n",
       "      <td>conditionnement 1</td>\n",
       "      <td>Mécanique</td>\n",
       "      <td>737366</td>\n",
       "      <td>737366</td>\n",
       "      <td>correctif non planifié</td>\n",
       "      <td>30</td>\n",
       "      <td>737335</td>\n",
       "    </tr>\n",
       "  </tbody>\n",
       "</table>\n",
       "</div>"
      ],
      "text/plain": [
       "     Equipment                          Nom Equipement Noeud Parent  \\\n",
       "2888    PFC107  Serac B (DmxR12T12/540 série M12-OM24)         PFC1   \n",
       "\n",
       "             Nom_parent Classification_Equipement  Date début  Date Fin  \\\n",
       "2888  conditionnement 1                 Mécanique      737366    737366   \n",
       "\n",
       "                     Type OT  day_diff  date_enreg  \n",
       "2888  correctif non planifié        30      737335  "
      ]
     },
     "execution_count": 57,
     "metadata": {},
     "output_type": "execute_result"
    }
   ],
   "source": [
    "data=pd.read_csv('./CleanData.csv')\n",
    "data = data.drop(columns=['Unnamed: 0','Year1','Year2','Year3','day','date enregistrement','Ordre de travail','Description'])\n",
    "data['Date Fin'] = pd.to_datetime(data['Date Fin']).apply(lambda x: x.toordinal())\n",
    "data['Date début'] = pd.to_datetime(data['Date début']).apply(lambda x: x.toordinal())\n",
    "data['date_enreg'] = pd.to_datetime(data['date_enreg']).apply(lambda x: x.toordinal())\n",
    "data.sample()"
   ]
  },
  {
   "cell_type": "code",
   "execution_count": 58,
   "id": "d23ccd05",
   "metadata": {},
   "outputs": [],
   "source": [
    "X= data.drop(columns=['Classification_Equipement'])\n",
    "Y= data['Classification_Equipement']\n",
    "X_train, X_test, Y_train, Y_test = train_test_split(X, Y, test_size=0.2, random_state=42)   "
   ]
  },
  {
   "cell_type": "markdown",
   "id": "05eedb98",
   "metadata": {},
   "source": [
    "### creating and training the model"
   ]
  },
  {
   "cell_type": "code",
   "execution_count": 59,
   "id": "9a95f138",
   "metadata": {},
   "outputs": [
    {
     "name": "stdout",
     "output_type": "stream",
     "text": [
      "Accuracy: 0.9938697318007663\n",
      "Classification Report:\n",
      "               precision    recall  f1-score   support\n",
      "\n",
      "  Electrique       1.00      0.92      0.96        48\n",
      " Energetique       0.50      0.25      0.33         4\n",
      "   Mécanique       0.99      1.00      1.00      1253\n",
      "\n",
      "    accuracy                           0.99      1305\n",
      "   macro avg       0.83      0.72      0.76      1305\n",
      "weighted avg       0.99      0.99      0.99      1305\n",
      "\n"
     ]
    }
   ],
   "source": [
    "# Copy to avoid changing original\n",
    "X_train_enc = X_train.copy()\n",
    "X_test_enc = X_test.copy()\n",
    "\n",
    "# Identify categorical columns\n",
    "cat_cols = X_train_enc.select_dtypes(include=['object']).columns\n",
    "\n",
    "# Use OrdinalEncoder to safely handle unseen categories\n",
    "encoder = OrdinalEncoder(handle_unknown='use_encoded_value', unknown_value=-1)\n",
    "\n",
    "# Fit on training set\n",
    "X_train_enc[cat_cols] = encoder.fit_transform(X_train_enc[cat_cols])\n",
    "\n",
    "# Transform test set using the same encoder\n",
    "X_test_enc[cat_cols] = encoder.transform(X_test_enc[cat_cols])\n",
    "\n",
    "# Initialize and train the Random Forest model\n",
    "rf_classifier = RandomForestClassifier(n_estimators=100, random_state=42)\n",
    "rf_classifier.fit(X_train_enc, Y_train)\n",
    "\n",
    "# Predict\n",
    "y_pred = rf_classifier.predict(X_test_enc)\n",
    "\n",
    "# Evaluate\n",
    "print(\"Accuracy:\", accuracy_score(Y_test, y_pred))\n",
    "print(\"Classification Report:\\n\", classification_report(Y_test, y_pred))"
   ]
  }
 ],
 "metadata": {
  "kernelspec": {
   "display_name": "Python (myenv)",
   "language": "python",
   "name": "myenv"
  },
  "language_info": {
   "codemirror_mode": {
    "name": "ipython",
    "version": 3
   },
   "file_extension": ".py",
   "mimetype": "text/x-python",
   "name": "python",
   "nbconvert_exporter": "python",
   "pygments_lexer": "ipython3",
   "version": "3.10.11"
  }
 },
 "nbformat": 4,
 "nbformat_minor": 5
}
