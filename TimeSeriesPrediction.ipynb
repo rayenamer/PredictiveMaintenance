{
 "cells": [
  {
   "cell_type": "code",
   "execution_count": null,
   "id": "708ef0c9",
   "metadata": {},
   "outputs": [],
   "source": [
    "\n",
    "tsdata=pd.read_csv('./CleanDataForTimeSeries.csv')\n",
    "tsdata = tsdata[['Date','nombre_pannes']]"
   ]
  }
 ],
 "metadata": {
  "language_info": {
   "name": "python"
  }
 },
 "nbformat": 4,
 "nbformat_minor": 5
}
